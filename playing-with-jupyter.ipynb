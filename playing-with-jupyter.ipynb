{
 "cells": [
  {
   "cell_type": "code",
   "execution_count": 1,
   "id": "68f5dc92-dee5-4b7d-bd11-16ccb08767bb",
   "metadata": {},
   "outputs": [],
   "source": [
    "i = 1\n",
    "j = 2"
   ]
  },
  {
   "cell_type": "code",
   "execution_count": 2,
   "id": "7bdd3a4a-cac9-4b5c-bbbf-3ae64acff052",
   "metadata": {},
   "outputs": [],
   "source": [
    "k = i + j"
   ]
  },
  {
   "cell_type": "code",
   "execution_count": 3,
   "id": "491ac7dd-f55f-4a9d-a7bc-a4c060b3d290",
   "metadata": {},
   "outputs": [
    {
     "data": {
      "text/plain": [
       "3"
      ]
     },
     "execution_count": 3,
     "metadata": {},
     "output_type": "execute_result"
    }
   ],
   "source": [
    "k"
   ]
  },
  {
   "cell_type": "markdown",
   "id": "5f6928e0-65f2-4f6f-9d7e-64ad1206bcc9",
   "metadata": {},
   "source": [
    "# I am a heading\n",
    "\n",
    "- I am a list.\n",
    "- I am a list.\n",
    "- I am the third item.\n",
    "\n",
    "![](https://assets.mydogsname.com/images/categories/003-dog.png)\n",
    "\n",
    "**Bold text**"
   ]
  },
  {
   "cell_type": "code",
   "execution_count": null,
   "id": "2b0e5457-5772-4f4c-88fd-039c3af031a9",
   "metadata": {},
   "outputs": [],
   "source": []
  }
 ],
 "metadata": {
  "kernelspec": {
   "display_name": "Python 3",
   "language": "python",
   "name": "python3"
  },
  "language_info": {
   "codemirror_mode": {
    "name": "ipython",
    "version": 3
   },
   "file_extension": ".py",
   "mimetype": "text/x-python",
   "name": "python",
   "nbconvert_exporter": "python",
   "pygments_lexer": "ipython3",
   "version": "3.8.8"
  }
 },
 "nbformat": 4,
 "nbformat_minor": 5
}
